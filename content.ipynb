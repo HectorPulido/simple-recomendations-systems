{
 "cells": [
  {
   "cell_type": "code",
   "execution_count": 1,
   "metadata": {},
   "outputs": [
    {
     "name": "stdout",
     "output_type": "stream",
     "text": [
      "\n",
      "\u001b[1m[\u001b[0m\u001b[34;49mnotice\u001b[0m\u001b[1;39;49m]\u001b[0m\u001b[39;49m A new release of pip is available: \u001b[0m\u001b[31;49m24.0\u001b[0m\u001b[39;49m -> \u001b[0m\u001b[32;49m24.2\u001b[0m\n",
      "\u001b[1m[\u001b[0m\u001b[34;49mnotice\u001b[0m\u001b[1;39;49m]\u001b[0m\u001b[39;49m To update, run: \u001b[0m\u001b[32;49mpip install --upgrade pip\u001b[0m\n",
      "Note: you may need to restart the kernel to use updated packages.\n"
     ]
    }
   ],
   "source": [
    "%pip install spacy > /dev/null\n",
    "%pip install scikit-learn > /dev/null\n",
    "%pip install pandas > /dev/null"
   ]
  },
  {
   "cell_type": "code",
   "execution_count": 2,
   "metadata": {},
   "outputs": [],
   "source": [
    "import pandas as pd\n",
    "from sklearn.feature_extraction.text import TfidfVectorizer\n",
    "from sklearn.metrics.pairwise import cosine_similarity\n",
    "\n",
    "# For spanish language\n",
    "from spacy.lang.es.stop_words import STOP_WORDS as STOP_WORDS_ES"
   ]
  },
  {
   "cell_type": "code",
   "execution_count": 3,
   "metadata": {},
   "outputs": [
    {
     "data": {
      "text/html": [
       "<div>\n",
       "<style scoped>\n",
       "    .dataframe tbody tr th:only-of-type {\n",
       "        vertical-align: middle;\n",
       "    }\n",
       "\n",
       "    .dataframe tbody tr th {\n",
       "        vertical-align: top;\n",
       "    }\n",
       "\n",
       "    .dataframe thead th {\n",
       "        text-align: right;\n",
       "    }\n",
       "</style>\n",
       "<table border=\"1\" class=\"dataframe\">\n",
       "  <thead>\n",
       "    <tr style=\"text-align: right;\">\n",
       "      <th></th>\n",
       "      <th>Unnamed: 0</th>\n",
       "      <th>Title</th>\n",
       "      <th>Description</th>\n",
       "      <th>Keywords</th>\n",
       "    </tr>\n",
       "  </thead>\n",
       "  <tbody>\n",
       "    <tr>\n",
       "      <th>0</th>\n",
       "      <td>Articulo1</td>\n",
       "      <td>Aprendiendo Python</td>\n",
       "      <td>Este libro cubre los fundamentos de Python, in...</td>\n",
       "      <td>Python programación desarrollo</td>\n",
       "    </tr>\n",
       "    <tr>\n",
       "      <th>1</th>\n",
       "      <td>Articulo2</td>\n",
       "      <td>Introducción a Machine Learning</td>\n",
       "      <td>Un curso sobre los conceptos básicos de Machin...</td>\n",
       "      <td>Machine Learning IA algoritmos</td>\n",
       "    </tr>\n",
       "    <tr>\n",
       "      <th>2</th>\n",
       "      <td>Articulo3</td>\n",
       "      <td>Guía de Data Science</td>\n",
       "      <td>Explora técnicas de Data Science y cómo trabaj...</td>\n",
       "      <td>Data Science análisis datos</td>\n",
       "    </tr>\n",
       "    <tr>\n",
       "      <th>3</th>\n",
       "      <td>Articulo4</td>\n",
       "      <td>Aprende programación en R</td>\n",
       "      <td>Un tutorial para comenzar a programar en R par...</td>\n",
       "      <td>R estadística programación</td>\n",
       "    </tr>\n",
       "    <tr>\n",
       "      <th>4</th>\n",
       "      <td>Articulo5</td>\n",
       "      <td>Deep Learning avanzado</td>\n",
       "      <td>Profundiza en técnicas avanzadas de Deep Learn...</td>\n",
       "      <td>Deep Learning redes neuronales</td>\n",
       "    </tr>\n",
       "  </tbody>\n",
       "</table>\n",
       "</div>"
      ],
      "text/plain": [
       "  Unnamed: 0                            Title  \\\n",
       "0  Articulo1               Aprendiendo Python   \n",
       "1  Articulo2  Introducción a Machine Learning   \n",
       "2  Articulo3             Guía de Data Science   \n",
       "3  Articulo4        Aprende programación en R   \n",
       "4  Articulo5           Deep Learning avanzado   \n",
       "\n",
       "                                         Description  \\\n",
       "0  Este libro cubre los fundamentos de Python, in...   \n",
       "1  Un curso sobre los conceptos básicos de Machin...   \n",
       "2  Explora técnicas de Data Science y cómo trabaj...   \n",
       "3  Un tutorial para comenzar a programar en R par...   \n",
       "4  Profundiza en técnicas avanzadas de Deep Learn...   \n",
       "\n",
       "                         Keywords  \n",
       "0  Python programación desarrollo  \n",
       "1  Machine Learning IA algoritmos  \n",
       "2     Data Science análisis datos  \n",
       "3      R estadística programación  \n",
       "4  Deep Learning redes neuronales  "
      ]
     },
     "execution_count": 3,
     "metadata": {},
     "output_type": "execute_result"
    }
   ],
   "source": [
    "products = pd.read_csv(\"data/content_data.csv\")\n",
    "products"
   ]
  },
  {
   "cell_type": "code",
   "execution_count": 4,
   "metadata": {},
   "outputs": [
    {
     "data": {
      "text/html": [
       "<div>\n",
       "<style scoped>\n",
       "    .dataframe tbody tr th:only-of-type {\n",
       "        vertical-align: middle;\n",
       "    }\n",
       "\n",
       "    .dataframe tbody tr th {\n",
       "        vertical-align: top;\n",
       "    }\n",
       "\n",
       "    .dataframe thead th {\n",
       "        text-align: right;\n",
       "    }\n",
       "</style>\n",
       "<table border=\"1\" class=\"dataframe\">\n",
       "  <thead>\n",
       "    <tr style=\"text-align: right;\">\n",
       "      <th></th>\n",
       "      <th>Unnamed: 0</th>\n",
       "      <th>Title</th>\n",
       "      <th>Description</th>\n",
       "      <th>Keywords</th>\n",
       "      <th>Content</th>\n",
       "    </tr>\n",
       "  </thead>\n",
       "  <tbody>\n",
       "    <tr>\n",
       "      <th>0</th>\n",
       "      <td>Articulo1</td>\n",
       "      <td>Aprendiendo Python</td>\n",
       "      <td>Este libro cubre los fundamentos de Python, in...</td>\n",
       "      <td>Python programación desarrollo</td>\n",
       "      <td>Este libro cubre los fundamentos de Python, in...</td>\n",
       "    </tr>\n",
       "    <tr>\n",
       "      <th>1</th>\n",
       "      <td>Articulo2</td>\n",
       "      <td>Introducción a Machine Learning</td>\n",
       "      <td>Un curso sobre los conceptos básicos de Machin...</td>\n",
       "      <td>Machine Learning IA algoritmos</td>\n",
       "      <td>Un curso sobre los conceptos básicos de Machin...</td>\n",
       "    </tr>\n",
       "    <tr>\n",
       "      <th>2</th>\n",
       "      <td>Articulo3</td>\n",
       "      <td>Guía de Data Science</td>\n",
       "      <td>Explora técnicas de Data Science y cómo trabaj...</td>\n",
       "      <td>Data Science análisis datos</td>\n",
       "      <td>Explora técnicas de Data Science y cómo trabaj...</td>\n",
       "    </tr>\n",
       "    <tr>\n",
       "      <th>3</th>\n",
       "      <td>Articulo4</td>\n",
       "      <td>Aprende programación en R</td>\n",
       "      <td>Un tutorial para comenzar a programar en R par...</td>\n",
       "      <td>R estadística programación</td>\n",
       "      <td>Un tutorial para comenzar a programar en R par...</td>\n",
       "    </tr>\n",
       "    <tr>\n",
       "      <th>4</th>\n",
       "      <td>Articulo5</td>\n",
       "      <td>Deep Learning avanzado</td>\n",
       "      <td>Profundiza en técnicas avanzadas de Deep Learn...</td>\n",
       "      <td>Deep Learning redes neuronales</td>\n",
       "      <td>Profundiza en técnicas avanzadas de Deep Learn...</td>\n",
       "    </tr>\n",
       "  </tbody>\n",
       "</table>\n",
       "</div>"
      ],
      "text/plain": [
       "  Unnamed: 0                            Title  \\\n",
       "0  Articulo1               Aprendiendo Python   \n",
       "1  Articulo2  Introducción a Machine Learning   \n",
       "2  Articulo3             Guía de Data Science   \n",
       "3  Articulo4        Aprende programación en R   \n",
       "4  Articulo5           Deep Learning avanzado   \n",
       "\n",
       "                                         Description  \\\n",
       "0  Este libro cubre los fundamentos de Python, in...   \n",
       "1  Un curso sobre los conceptos básicos de Machin...   \n",
       "2  Explora técnicas de Data Science y cómo trabaj...   \n",
       "3  Un tutorial para comenzar a programar en R par...   \n",
       "4  Profundiza en técnicas avanzadas de Deep Learn...   \n",
       "\n",
       "                         Keywords  \\\n",
       "0  Python programación desarrollo   \n",
       "1  Machine Learning IA algoritmos   \n",
       "2     Data Science análisis datos   \n",
       "3      R estadística programación   \n",
       "4  Deep Learning redes neuronales   \n",
       "\n",
       "                                             Content  \n",
       "0  Este libro cubre los fundamentos de Python, in...  \n",
       "1  Un curso sobre los conceptos básicos de Machin...  \n",
       "2  Explora técnicas de Data Science y cómo trabaj...  \n",
       "3  Un tutorial para comenzar a programar en R par...  \n",
       "4  Profundiza en técnicas avanzadas de Deep Learn...  "
      ]
     },
     "execution_count": 4,
     "metadata": {},
     "output_type": "execute_result"
    }
   ],
   "source": [
    "products[\"Content\"] = products[\"Description\"] + \" \" + products[\"Keywords\"]\n",
    "products"
   ]
  },
  {
   "cell_type": "code",
   "execution_count": 5,
   "metadata": {},
   "outputs": [],
   "source": [
    "tfidf = TfidfVectorizer(stop_words=list(STOP_WORDS_ES))\n",
    "tfidf_matrix = tfidf.fit_transform(products[\"Content\"])"
   ]
  },
  {
   "cell_type": "code",
   "execution_count": 6,
   "metadata": {},
   "outputs": [
    {
     "data": {
      "text/plain": [
       "array([[1.        , 0.        , 0.09953524, 0.07392761, 0.        ],\n",
       "       [0.        , 1.        , 0.        , 0.        , 0.17655677],\n",
       "       [0.09953524, 0.        , 1.        , 0.06953418, 0.04202227],\n",
       "       [0.07392761, 0.        , 0.06953418, 1.        , 0.        ],\n",
       "       [0.        , 0.17655677, 0.04202227, 0.        , 1.        ]])"
      ]
     },
     "execution_count": 6,
     "metadata": {},
     "output_type": "execute_result"
    }
   ],
   "source": [
    "cosine_sim = cosine_similarity(tfidf_matrix, tfidf_matrix)\n",
    "cosine_sim"
   ]
  },
  {
   "cell_type": "code",
   "execution_count": 7,
   "metadata": {},
   "outputs": [
    {
     "data": {
      "text/plain": [
       "Title\n",
       "Aprendiendo Python                 0\n",
       "Introducción a Machine Learning    1\n",
       "Guía de Data Science               2\n",
       "Aprende programación en R          3\n",
       "Deep Learning avanzado             4\n",
       "dtype: int64"
      ]
     },
     "execution_count": 7,
     "metadata": {},
     "output_type": "execute_result"
    }
   ],
   "source": [
    "indexes = pd.Series(products.index, index=products[\"Title\"]).drop_duplicates()\n",
    "indexes"
   ]
  },
  {
   "cell_type": "code",
   "execution_count": 8,
   "metadata": {},
   "outputs": [],
   "source": [
    "def get_recommendations(idxs, cosine_sim):\n",
    "    final_recomendations = None\n",
    "\n",
    "    for idx in idxs:\n",
    "        sim_scores = list(enumerate(cosine_sim[idx]))\n",
    "        sim_scores = sorted(sim_scores, key=lambda x: x[1], reverse=True)\n",
    "\n",
    "        # Top 5, Excluding the first element (itself)\n",
    "        sim_scores = sim_scores[1:6]\n",
    "        product_indexes = [i[0] for i in sim_scores]\n",
    "\n",
    "        scores = [i[1] for i in sim_scores]\n",
    "        recomendations = indexes.iloc[product_indexes].index\n",
    "\n",
    "        # Add scores to the recomendations\n",
    "        recomendations = pd.DataFrame(recomendations)\n",
    "        recomendations[\"Score\"] = scores\n",
    "\n",
    "        if final_recomendations is None:\n",
    "            final_recomendations = recomendations\n",
    "            continue\n",
    "\n",
    "        final_recomendations = pd.concat([final_recomendations, recomendations])\n",
    "        final_recomendations = (\n",
    "            final_recomendations.groupby(\"Title\")\n",
    "            .mean()\n",
    "            .sort_values(\"Score\", ascending=False)\n",
    "            .reset_index()\n",
    "        )\n",
    "    return final_recomendations"
   ]
  },
  {
   "cell_type": "code",
   "execution_count": 9,
   "metadata": {},
   "outputs": [
    {
     "name": "stdout",
     "output_type": "stream",
     "text": [
      "Artículos recomendados:\n",
      "                             Title     Score\n",
      "0             Guía de Data Science  0.099535\n",
      "1        Aprende programación en R  0.073928\n",
      "2  Introducción a Machine Learning  0.000000\n",
      "3           Deep Learning avanzado  0.000000\n"
     ]
    }
   ],
   "source": [
    "recommendations = get_recommendations([0], cosine_sim)\n",
    "print(\"Artículos recomendados:\")\n",
    "print(recommendations)"
   ]
  },
  {
   "cell_type": "code",
   "execution_count": 10,
   "metadata": {},
   "outputs": [
    {
     "name": "stdout",
     "output_type": "stream",
     "text": [
      "Artículos recomendados:\n",
      "                       Title     Score\n",
      "0     Deep Learning avanzado  0.176557\n",
      "1         Aprendiendo Python  0.000000\n",
      "2       Guía de Data Science  0.000000\n",
      "3  Aprende programación en R  0.000000\n"
     ]
    }
   ],
   "source": [
    "recommendations = get_recommendations([1], cosine_sim)\n",
    "print(\"Recommended articles:\")\n",
    "print(recommendations)"
   ]
  },
  {
   "cell_type": "code",
   "execution_count": 11,
   "metadata": {},
   "outputs": [
    {
     "name": "stdout",
     "output_type": "stream",
     "text": [
      "Artículos recomendados:\n",
      "                             Title     Score\n",
      "0           Deep Learning avanzado  0.088278\n",
      "1             Guía de Data Science  0.049768\n",
      "2        Aprende programación en R  0.036964\n",
      "3               Aprendiendo Python  0.000000\n",
      "4  Introducción a Machine Learning  0.000000\n"
     ]
    }
   ],
   "source": [
    "recommendations = get_recommendations([0, 1], cosine_sim)\n",
    "print(\"Recommended articles:\")\n",
    "print(recommendations)"
   ]
  }
 ],
 "metadata": {
  "kernelspec": {
   "display_name": "Python 3",
   "language": "python",
   "name": "python3"
  },
  "language_info": {
   "codemirror_mode": {
    "name": "ipython",
    "version": 3
   },
   "file_extension": ".py",
   "mimetype": "text/x-python",
   "name": "python",
   "nbconvert_exporter": "python",
   "pygments_lexer": "ipython3",
   "version": "3.10.13"
  }
 },
 "nbformat": 4,
 "nbformat_minor": 2
}
